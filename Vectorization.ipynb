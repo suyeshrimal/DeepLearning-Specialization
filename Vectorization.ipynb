{
 "cells": [
  {
   "cell_type": "markdown",
   "id": "3c7d3cb7-2782-4082-94fe-b05579bb0311",
   "metadata": {},
   "source": [
    "Vectorization in Logistic Regression refers to rewriting the mathematical operations using matrix and vector operations instead of using explicit loops. This is done to speed up computation and leverage efficient linear algebra libraries like NumPy or TensorFlow."
   ]
  },
  {
   "cell_type": "code",
   "execution_count": 1,
   "id": "f328ed6a-c724-4eb5-98bd-c95ace331c3a",
   "metadata": {},
   "outputs": [
    {
     "name": "stdout",
     "output_type": "stream",
     "text": [
      "[1 2 3 4]\n"
     ]
    }
   ],
   "source": [
    "import numpy as np\n",
    "\n",
    "a = np.array([1,2,3,4])\n",
    "print(a)"
   ]
  },
  {
   "cell_type": "code",
   "execution_count": 2,
   "id": "98ed6540-6746-4ff3-b55b-eb8f7fdfaf5e",
   "metadata": {},
   "outputs": [
    {
     "name": "stdout",
     "output_type": "stream",
     "text": [
      "250198.19609641307\n",
      "Vectorized version: 1.0030269622802734 ms\n",
      "Using For Loop: 560.6131553649902 ms\n"
     ]
    }
   ],
   "source": [
    "import time\n",
    "a = np.random.rand(1000000)\n",
    "b = np.random.rand(1000000)\n",
    "\n",
    "tic = time.time()\n",
    "c = np.dot(a,b)\n",
    "toc = time.time()\n",
    "\n",
    "print(c)\n",
    "print(\"Vectorized version: \" +str(1000*(toc-tic))+\" ms\")\n",
    "\n",
    "c=0\n",
    "tic = time.time()\n",
    "for i in range(1000000):\n",
    "    c += a[i]*b[i]\n",
    "toc = time.time()\n",
    "\n",
    "print(\"Using For Loop: \"+str(1000*(toc-tic))+ \" ms\")"
   ]
  },
  {
   "cell_type": "markdown",
   "id": "4343d4e5-1b7a-42c5-9602-59a79e3dbd2d",
   "metadata": {},
   "source": [
    "Now we can see the difference between the vectorized version and using for loop"
   ]
  }
 ],
 "metadata": {
  "kernelspec": {
   "display_name": "Python 3 (ipykernel)",
   "language": "python",
   "name": "python3"
  },
  "language_info": {
   "codemirror_mode": {
    "name": "ipython",
    "version": 3
   },
   "file_extension": ".py",
   "mimetype": "text/x-python",
   "name": "python",
   "nbconvert_exporter": "python",
   "pygments_lexer": "ipython3",
   "version": "3.12.3"
  }
 },
 "nbformat": 4,
 "nbformat_minor": 5
}
